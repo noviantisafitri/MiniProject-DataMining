{
  "nbformat": 4,
  "nbformat_minor": 0,
  "metadata": {
    "colab": {
      "provenance": [],
      "authorship_tag": "ABX9TyNLsv3ML6dReQrel2KxBRA2",
      "include_colab_link": true
    },
    "kernelspec": {
      "name": "python3",
      "display_name": "Python 3"
    },
    "language_info": {
      "name": "python"
    }
  },
  "cells": [
    {
      "cell_type": "markdown",
      "metadata": {
        "id": "view-in-github",
        "colab_type": "text"
      },
      "source": [
        "<a href=\"https://colab.research.google.com/github/noviantisafitri/MiniProject-DataMining/blob/main/Business_Understanding.ipynb\" target=\"_parent\"><img src=\"https://colab.research.google.com/assets/colab-badge.svg\" alt=\"Open In Colab\"/></a>"
      ]
    },
    {
      "cell_type": "markdown",
      "source": [
        "#**Analisis Faktor-faktor yang Mempengaruhi Konsumsi Alkohol pada Remaja**"
      ],
      "metadata": {
        "id": "5ylGX_PQuxK7"
      }
    },
    {
      "cell_type": "markdown",
      "source": [
        "###**Business Understanding**"
      ],
      "metadata": {
        "id": "T8aYzSI4u1Q3"
      }
    },
    {
      "cell_type": "markdown",
      "source": [
        "**Business Objective**\n",
        "\n",
        "Tujuan bisnis dari analisis ini adalah untuk menyelidiki dan memahami apa saja faktor yang mungkin memengaruhi perilaku konsumsi alkohol di kalangan remaja serta mengidentifikasi kelompok remaja yang lebih rentan terhadap konsumsi alkohol sehingga dapat merencenakan strategi yang efektif untuk mengurangi maupun mencegah konsumsi alkohol pada remaja. Selain itu, hasil analisis ini juga dapat memberikan wawasan bagi pihak-pihak terkait dalam upaya pencegahan konsumsi alkohol pada remaja. Dengan demikian, analisis ini diharapkan dapat memberikan kontribusi positif dalam upaya mengurangi dampak negatif konsumsi alkohol pada remaja."
      ],
      "metadata": {
        "id": "G45wRdwkvO7T"
      }
    },
    {
      "cell_type": "markdown",
      "source": [
        "**Assess Situation**\n",
        "\n",
        "Konsumsi alkohol pada remaja merupakan fenomena yang memerlukan perhatian serius karena memiliki potensi risiko jangka panjang terhadap kesehatan fisik, kesejahteraan mental, dan perilaku sosial. Konsumsi alkohol pada remaja dapat menyebabkan kecanduan, serta mempengaruhi perkembangan otak dan sistem saraf pusat, yang dapat berdampak pada kemampuan belajar, dan pengambilan keputusan. Selain itu, konsumsi alkohol pada remaja juga dapat meningkatkan risiko terjadinya kecelakaan, kekerasan, dan perilaku berisiko lainnya, seperti perilaku seksual yang tidak aman dan penggunaan narkoba."
      ],
      "metadata": {
        "id": "TCjansCuvPNJ"
      }
    },
    {
      "cell_type": "markdown",
      "source": [
        "**Data Mining Goals**\n",
        "\n",
        "Tujuan dari analisis data ini adalah untuk mengidentifikasi faktor-faktor yang berpengaruh terhadap konsumsi alkohol pada remaja dan mengetahui faktor apa saja yang paling berpengaruh terhadap perilaku konsumsi alkohol tersebut. Selain itu, analisis data mining juga dapat membantu dalam mengidentifikasi pola dalam perilaku konsumsi alkohol pada remaja, serta memprediksi risiko konsumsi alkohol pada remaja di masa depan. Sehingga dapat membantu dalam pengembangan program pencegahan yang lebih efektif dan tepat sasaran, serta membantu dalam pengambilan keputusan yang lebih baik dalam mengatasi masalah konsumsi alkohol pada remaja."
      ],
      "metadata": {
        "id": "i9i-JTZuvLi5"
      }
    },
    {
      "cell_type": "markdown",
      "source": [
        "**Project Plan**\n",
        "\n",
        "\n",
        "Rencana proyek ini dimulai dari mengumpulkan data yang relevan terkait konsumsi alkohol pada remaja dari sumber yang tersedia. Setelah itu, dataset akan dilakukan pembersihan dan preprocessing data untuk memastikan keakuratan dan konsistensi dataset yang akan digunakan dalam analisis. Langkah selanjutnya adalah melakukan eksplorasi data untuk memahami hubungan antar variabel dan mengembangkan model prediktif. Dalam tahap ini, analisis data mining akan dilakukan untuk mengidentifikasi faktor-faktor yang berpengaruh terhadap konsumsi alkohol pada remaja dan mengetahui faktor apa saja yang paling berpengaruh terhadap perilaku konsumsi alkohol tersebut. Hasil dari analisis data mining akan digunakan untuk menyusun langkah-langkah yang tepat untuk mengurangi dampak negatif konsumsi alkohol pada remaja. Dengan demikian, rencana proyek ini akan membantu dalam pengembangan program pencegahan yang lebih efektif dan tepat sasaran untuk mengurangi risiko konsumsi alkohol pada remaja."
      ],
      "metadata": {
        "id": "zg-nmR5Yu7VD"
      }
    }
  ]
}