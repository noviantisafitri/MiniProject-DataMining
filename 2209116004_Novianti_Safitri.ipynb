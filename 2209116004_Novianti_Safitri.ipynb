{
  "nbformat": 4,
  "nbformat_minor": 0,
  "metadata": {
    "colab": {
      "provenance": [],
      "collapsed_sections": [
        "T8aYzSI4u1Q3",
        "i9i-JTZuvLi5"
      ],
      "authorship_tag": "ABX9TyOpXREtqnGaKkMZzy3EAZKS",
      "include_colab_link": true
    },
    "kernelspec": {
      "name": "python3",
      "display_name": "Python 3"
    },
    "language_info": {
      "name": "python"
    }
  },
  "cells": [
    {
      "cell_type": "markdown",
      "metadata": {
        "id": "view-in-github",
        "colab_type": "text"
      },
      "source": [
        "<a href=\"https://colab.research.google.com/github/noviantisafitri/MiniProject-DataMining/blob/main/2209116004_Novianti_Safitri.ipynb\" target=\"_parent\"><img src=\"https://colab.research.google.com/assets/colab-badge.svg\" alt=\"Open In Colab\"/></a>"
      ]
    },
    {
      "cell_type": "markdown",
      "source": [
        "## **Analisis Faktor-faktor yang Mempengaruhi Konsumsi Alkohol pada Remaja**"
      ],
      "metadata": {
        "id": "5ylGX_PQuxK7"
      }
    },
    {
      "cell_type": "markdown",
      "source": [
        "####Business Understanding"
      ],
      "metadata": {
        "id": "T8aYzSI4u1Q3"
      }
    },
    {
      "cell_type": "markdown",
      "source": [
        "######Business Objective\n",
        "Tujuan bisnis dari analisis ini adalah untuk memahami faktor-faktor apa saja yang dapat mempengaruhi konsumsi alkohol pada remaja. Dengan menganalisis faktor-faktor tersebut, tentunya dapat membantu dalam merencenakan strategi yang efektif untuk mengurangi maupun mencegah konsumsi alkohol pada remaja."
      ],
      "metadata": {
        "id": "G45wRdwkvO7T"
      }
    },
    {
      "cell_type": "markdown",
      "source": [
        "######Assess Situation\n",
        "Konsumsi alkohol pada remaja merupakan masalah serius yang dapat memiliki dampak jangka panjang terhadap kesehatan fisik, kesejahteraan mental, dan perilaku sosial. Konsumsi alkohol pada usia muda dapat menyebabkan kecanduan dan masalah kesehatan mental yang lebih serius."
      ],
      "metadata": {
        "id": "TCjansCuvPNJ"
      }
    },
    {
      "cell_type": "markdown",
      "source": [
        "######Data Mining Goals\n",
        "\n",
        "Tujuan dari analisis data ini adalah untuk mengidentifikasi faktor-faktor yang berpengaruh terhadap konsumsi alkohol pada remaja dan mengetahui faktor apa saja yang paling berpengaruh terhadap perilaku konsumsi alkohol tersebut sehingga dapat menyusun langkah-langkah yang lebih efektif dalam merancang program pencegahan yang tepat untuk mengurangi dampak negatifnya."
      ],
      "metadata": {
        "id": "i9i-JTZuvLi5"
      }
    },
    {
      "cell_type": "markdown",
      "source": [
        "######Project Plan\n",
        "Rencana proyek ini dimulai dari mengumpulkan data yang relevan terkait konsumsi alkohol pada remaja dari sumber yang tersedia. Setelah itu, dataset akan dilakukan pembersihan dan preprocessing data untuk memastikan keakuratan dan konsistensi dataset yang akan digunakan dalam analisis. Langkah selanjutnya adalah melakukan eksplorasi data untuk memahami hubungan antar variabel dan mengembangkan model prediktif. Rencana proyek ini akan menghasilkan langkah-langkah yang tepat untuk mengurangi dampak negatif konsumsi alkohol pada remaja."
      ],
      "metadata": {
        "id": "zg-nmR5Yu7VD"
      }
    }
  ]
}